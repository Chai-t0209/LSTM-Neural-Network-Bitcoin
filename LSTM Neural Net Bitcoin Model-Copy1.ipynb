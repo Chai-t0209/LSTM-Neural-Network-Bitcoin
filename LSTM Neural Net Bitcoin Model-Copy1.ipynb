{
 "cells": [
  {
   "cell_type": "markdown",
   "id": "5539c1f9",
   "metadata": {},
   "source": [
    "# LSTM Neural Network for Bitcoin"
   ]
  },
  {
   "cell_type": "markdown",
   "id": "4d79147f",
   "metadata": {},
   "source": [
    "##### We first need to import the necessary libraries for data analysis."
   ]
  },
  {
   "cell_type": "code",
   "execution_count": 161,
   "id": "2e99bb3b",
   "metadata": {},
   "outputs": [],
   "source": [
    "# Importing necessary libraries\n",
    "import numpy as np\n",
    "import pandas as pd\n",
    "import matplotlib.pyplot as plt\n",
    "%matplotlib inline\n",
    "from sklearn.preprocessing import MinMaxScaler\n",
    "from sklearn.metrics import mean_squared_error\n",
    "from tensorflow.keras.models import Sequential\n",
    "from tensorflow.keras.layers import Dense, LSTM, Dropout\n",
    "from tensorflow.keras.optimizers import Adam\n",
    "import talib\n",
    "import requests\n",
    "import requests\n",
    "import csv\n",
    "import json"
   ]
  },
  {
   "cell_type": "markdown",
   "id": "87c176d7",
   "metadata": {},
   "source": [
    "### Retrieving the Data"
   ]
  },
  {
   "cell_type": "markdown",
   "id": "c18b2a9e",
   "metadata": {},
   "source": [
    "##### Let's fetch the data from CryptoCompare's API."
   ]
  },
  {
   "cell_type": "code",
   "execution_count": null,
   "id": "9568a4b8",
   "metadata": {},
   "outputs": [],
   "source": [
    "def fetch_historical_data():\n",
    "    url = \"https://min-api.cryptocompare.com/data/v2/histoday\"\n",
    "    params = {\n",
    "        'fsym': 'BTC',\n",
    "        'tsym': 'USD',\n",
    "        'limit': 364,\n",
    "        'toTs': int(pd.Timestamp.utcnow().timestamp()),\n",
    "        'api_key': 'your_api_key'\n",
    "    }\n",
    "    response = requests.get(url, params=params)\n",
    "    json_data = response.json()\n",
    "    print(json_data)  # Print json_data to debug\n",
    "\n",
    "    historical_data = json_data['Data']['Data']\n",
    "    df = pd.DataFrame(historical_data)\n",
    "    df['time'] = pd.to_datetime(df['time'], unit='s')\n",
    "    return df\n",
    "\n",
    "df = fetch_historical_data()"
   ]
  },
  {
   "cell_type": "code",
   "execution_count": 329,
   "id": "d43dbe71",
   "metadata": {},
   "outputs": [
    {
     "data": {
      "text/html": [
       "<div>\n",
       "<style scoped>\n",
       "    .dataframe tbody tr th:only-of-type {\n",
       "        vertical-align: middle;\n",
       "    }\n",
       "\n",
       "    .dataframe tbody tr th {\n",
       "        vertical-align: top;\n",
       "    }\n",
       "\n",
       "    .dataframe thead th {\n",
       "        text-align: right;\n",
       "    }\n",
       "</style>\n",
       "<table border=\"1\" class=\"dataframe\">\n",
       "  <thead>\n",
       "    <tr style=\"text-align: right;\">\n",
       "      <th></th>\n",
       "      <th>time</th>\n",
       "      <th>high</th>\n",
       "      <th>low</th>\n",
       "      <th>open</th>\n",
       "      <th>volumefrom</th>\n",
       "      <th>volumeto</th>\n",
       "      <th>close</th>\n",
       "      <th>conversionType</th>\n",
       "      <th>conversionSymbol</th>\n",
       "    </tr>\n",
       "  </thead>\n",
       "  <tbody>\n",
       "    <tr>\n",
       "      <th>0</th>\n",
       "      <td>2022-03-20</td>\n",
       "      <td>42297.30</td>\n",
       "      <td>40979.25</td>\n",
       "      <td>42235.02</td>\n",
       "      <td>15580.67</td>\n",
       "      <td>6.475516e+08</td>\n",
       "      <td>41243.16</td>\n",
       "      <td>direct</td>\n",
       "      <td></td>\n",
       "    </tr>\n",
       "    <tr>\n",
       "      <th>1</th>\n",
       "      <td>2022-03-21</td>\n",
       "      <td>41510.03</td>\n",
       "      <td>40555.57</td>\n",
       "      <td>41243.16</td>\n",
       "      <td>21865.63</td>\n",
       "      <td>8.976936e+08</td>\n",
       "      <td>41043.90</td>\n",
       "      <td>direct</td>\n",
       "      <td></td>\n",
       "    </tr>\n",
       "    <tr>\n",
       "      <th>2</th>\n",
       "      <td>2022-03-22</td>\n",
       "      <td>43287.39</td>\n",
       "      <td>40923.90</td>\n",
       "      <td>41043.90</td>\n",
       "      <td>37636.83</td>\n",
       "      <td>1.597914e+09</td>\n",
       "      <td>42380.11</td>\n",
       "      <td>direct</td>\n",
       "      <td></td>\n",
       "    </tr>\n",
       "    <tr>\n",
       "      <th>3</th>\n",
       "      <td>2022-03-23</td>\n",
       "      <td>43021.74</td>\n",
       "      <td>41806.40</td>\n",
       "      <td>42380.11</td>\n",
       "      <td>26406.13</td>\n",
       "      <td>1.116853e+09</td>\n",
       "      <td>42904.10</td>\n",
       "      <td>direct</td>\n",
       "      <td></td>\n",
       "    </tr>\n",
       "    <tr>\n",
       "      <th>4</th>\n",
       "      <td>2022-03-24</td>\n",
       "      <td>44230.66</td>\n",
       "      <td>42653.71</td>\n",
       "      <td>42904.10</td>\n",
       "      <td>34879.48</td>\n",
       "      <td>1.514037e+09</td>\n",
       "      <td>44006.77</td>\n",
       "      <td>direct</td>\n",
       "      <td></td>\n",
       "    </tr>\n",
       "  </tbody>\n",
       "</table>\n",
       "</div>"
      ],
      "text/plain": [
       "        time      high       low      open  volumefrom      volumeto  \\\n",
       "0 2022-03-20  42297.30  40979.25  42235.02    15580.67  6.475516e+08   \n",
       "1 2022-03-21  41510.03  40555.57  41243.16    21865.63  8.976936e+08   \n",
       "2 2022-03-22  43287.39  40923.90  41043.90    37636.83  1.597914e+09   \n",
       "3 2022-03-23  43021.74  41806.40  42380.11    26406.13  1.116853e+09   \n",
       "4 2022-03-24  44230.66  42653.71  42904.10    34879.48  1.514037e+09   \n",
       "\n",
       "      close conversionType conversionSymbol  \n",
       "0  41243.16         direct                   \n",
       "1  41043.90         direct                   \n",
       "2  42380.11         direct                   \n",
       "3  42904.10         direct                   \n",
       "4  44006.77         direct                   "
      ]
     },
     "execution_count": 329,
     "metadata": {},
     "output_type": "execute_result"
    }
   ],
   "source": [
    "df.head()"
   ]
  },
  {
   "cell_type": "markdown",
   "id": "51a1fffe",
   "metadata": {},
   "source": [
    "##### Now let's get the data ready for analysis."
   ]
  },
  {
   "cell_type": "code",
   "execution_count": 356,
   "id": "d9556d50",
   "metadata": {
    "scrolled": true
   },
   "outputs": [],
   "source": [
    "# Technical Indicators\n",
    "df['SMA'] = talib.SMA(df['close'], timeperiod=14)\n",
    "df['EMA'] = talib.EMA(df['close'], timeperiod=14)\n",
    "df['RSI'] = talib.RSI(df['close'], timeperiod=14)\n",
    "df['MACD'], df['MACD_signal'], _ = talib.MACD(df['close'], fastperiod=12, slowperiod=26, signalperiod=9)\n",
    "df['BB_upper'], df['BB_middle'], df['BB_lower'] = talib.BBANDS(df['close'], timeperiod=20)\n",
    "df['ATR'] = talib.ATR(df['high'], df['low'], df['close'], timeperiod=14)\n",
    "df['%K'], df['%D'] = talib.STOCH(df['high'], df['low'], df['close'], fastk_period=14, slowk_period=3, slowd_period=3)\n",
    "df['CCI'] = talib.CCI(df['high'], df['low'], df['close'], timeperiod=14)\n",
    "df['OBV'] = talib.OBV(df['close'], df['volumeto'])\n",
    "df['ROC'] = talib.ROC(df['close'], timeperiod=10)\n",
    "df['PSAR'] = talib.SAR(df['high'], df['low'], acceleration=0.02, maximum=0.2)\n",
    "\n",
    "# Price-derived features\n",
    "df['daily_return'] = df['close'].pct_change()\n",
    "df['log_return'] = np.log(df['close'] / df['close'].shift(1))\n",
    "\n",
    "# Time-based features\n",
    "df['day_of_week'] = df['time'].dt.dayofweek\n",
    "\n",
    "# Drop missing values\n",
    "df.dropna(inplace=True)\n",
    "\n",
    "# Select only the columns that you want to use as features\n",
    "feature_columns = ['close', 'SMA', 'EMA', 'RSI', 'MACD', 'MACD_signal', \n",
    "                   'BB_upper', 'BB_middle', 'BB_lower', 'daily_return', 'log_return', \n",
    "                   'day_of_week', 'ATR', '%K', 'CCI', 'OBV', 'ROC', 'PSAR']\n",
    "numerical_data = df[feature_columns]\n",
    "\n",
    "# Scale the data\n",
    "scaler = MinMaxScaler(feature_range=(0, 1))\n",
    "scaled_numerical_data = scaler.fit_transform(numerical_data)\n",
    "\n",
    "# Create a new DataFrame with scaled data\n",
    "scaled_data = pd.DataFrame(scaled_numerical_data, columns=numerical_data.columns, index=numerical_data.index)\n",
    "\n",
    "# Split the data into training and testing sets\n",
    "train_data, test_data = scaled_data[:int(len(df) * 0.75)], scaled_data[int(len(df) * 0.75):]"
   ]
  },
  {
   "cell_type": "markdown",
   "id": "fff6b2b7",
   "metadata": {},
   "source": [
    "##### We check the data to make sure that it is tidy."
   ]
  },
  {
   "cell_type": "code",
   "execution_count": 357,
   "id": "5b99def9",
   "metadata": {
    "scrolled": true
   },
   "outputs": [
    {
     "data": {
      "text/html": [
       "<div>\n",
       "<style scoped>\n",
       "    .dataframe tbody tr th:only-of-type {\n",
       "        vertical-align: middle;\n",
       "    }\n",
       "\n",
       "    .dataframe tbody tr th {\n",
       "        vertical-align: top;\n",
       "    }\n",
       "\n",
       "    .dataframe thead th {\n",
       "        text-align: right;\n",
       "    }\n",
       "</style>\n",
       "<table border=\"1\" class=\"dataframe\">\n",
       "  <thead>\n",
       "    <tr style=\"text-align: right;\">\n",
       "      <th></th>\n",
       "      <th>time</th>\n",
       "      <th>high</th>\n",
       "      <th>low</th>\n",
       "      <th>open</th>\n",
       "      <th>volumefrom</th>\n",
       "      <th>volumeto</th>\n",
       "      <th>close</th>\n",
       "      <th>conversionType</th>\n",
       "      <th>conversionSymbol</th>\n",
       "      <th>SMA</th>\n",
       "      <th>...</th>\n",
       "      <th>ATR</th>\n",
       "      <th>%K</th>\n",
       "      <th>%D</th>\n",
       "      <th>CCI</th>\n",
       "      <th>OBV</th>\n",
       "      <th>ROC</th>\n",
       "      <th>PSAR</th>\n",
       "      <th>daily_return</th>\n",
       "      <th>log_return</th>\n",
       "      <th>day_of_week</th>\n",
       "    </tr>\n",
       "  </thead>\n",
       "  <tbody>\n",
       "    <tr>\n",
       "      <th>99</th>\n",
       "      <td>2022-06-27</td>\n",
       "      <td>21505.42</td>\n",
       "      <td>20553.32</td>\n",
       "      <td>21031.85</td>\n",
       "      <td>30683.89</td>\n",
       "      <td>6.435462e+08</td>\n",
       "      <td>20718.16</td>\n",
       "      <td>direct</td>\n",
       "      <td></td>\n",
       "      <td>20839.020714</td>\n",
       "      <td>...</td>\n",
       "      <td>1553.992446</td>\n",
       "      <td>42.673040</td>\n",
       "      <td>36.078434</td>\n",
       "      <td>12.283435</td>\n",
       "      <td>-7.887216e+09</td>\n",
       "      <td>1.399258</td>\n",
       "      <td>18076.835185</td>\n",
       "      <td>-0.014915</td>\n",
       "      <td>-0.015027</td>\n",
       "      <td>0</td>\n",
       "    </tr>\n",
       "    <tr>\n",
       "      <th>100</th>\n",
       "      <td>2022-06-28</td>\n",
       "      <td>21184.16</td>\n",
       "      <td>20179.52</td>\n",
       "      <td>20718.16</td>\n",
       "      <td>32936.56</td>\n",
       "      <td>6.807279e+08</td>\n",
       "      <td>20251.96</td>\n",
       "      <td>direct</td>\n",
       "      <td></td>\n",
       "      <td>20705.705714</td>\n",
       "      <td>...</td>\n",
       "      <td>1514.752986</td>\n",
       "      <td>47.334137</td>\n",
       "      <td>41.459830</td>\n",
       "      <td>-22.021057</td>\n",
       "      <td>-8.567944e+09</td>\n",
       "      <td>6.846538</td>\n",
       "      <td>18303.575474</td>\n",
       "      <td>-0.022502</td>\n",
       "      <td>-0.022759</td>\n",
       "      <td>1</td>\n",
       "    </tr>\n",
       "    <tr>\n",
       "      <th>101</th>\n",
       "      <td>2022-06-29</td>\n",
       "      <td>20402.70</td>\n",
       "      <td>19844.86</td>\n",
       "      <td>20251.96</td>\n",
       "      <td>37366.30</td>\n",
       "      <td>7.511433e+08</td>\n",
       "      <td>20094.16</td>\n",
       "      <td>direct</td>\n",
       "      <td></td>\n",
       "      <td>20529.093571</td>\n",
       "      <td>...</td>\n",
       "      <td>1446.402058</td>\n",
       "      <td>50.502686</td>\n",
       "      <td>46.836621</td>\n",
       "      <td>-64.316632</td>\n",
       "      <td>-9.319088e+09</td>\n",
       "      <td>-2.234755</td>\n",
       "      <td>18516.711346</td>\n",
       "      <td>-0.007792</td>\n",
       "      <td>-0.007822</td>\n",
       "      <td>2</td>\n",
       "    </tr>\n",
       "    <tr>\n",
       "      <th>102</th>\n",
       "      <td>2022-06-30</td>\n",
       "      <td>20138.96</td>\n",
       "      <td>18622.86</td>\n",
       "      <td>20094.16</td>\n",
       "      <td>56316.14</td>\n",
       "      <td>1.084139e+09</td>\n",
       "      <td>19908.49</td>\n",
       "      <td>direct</td>\n",
       "      <td></td>\n",
       "      <td>20495.925000</td>\n",
       "      <td>...</td>\n",
       "      <td>1451.380483</td>\n",
       "      <td>50.069669</td>\n",
       "      <td>49.302164</td>\n",
       "      <td>-114.521542</td>\n",
       "      <td>-1.040323e+10</td>\n",
       "      <td>-3.125993</td>\n",
       "      <td>21855.840000</td>\n",
       "      <td>-0.009240</td>\n",
       "      <td>-0.009283</td>\n",
       "      <td>3</td>\n",
       "    </tr>\n",
       "    <tr>\n",
       "      <th>103</th>\n",
       "      <td>2022-07-01</td>\n",
       "      <td>20817.65</td>\n",
       "      <td>18952.12</td>\n",
       "      <td>19908.49</td>\n",
       "      <td>62287.55</td>\n",
       "      <td>1.220917e+09</td>\n",
       "      <td>19249.33</td>\n",
       "      <td>direct</td>\n",
       "      <td></td>\n",
       "      <td>20411.430000</td>\n",
       "      <td>...</td>\n",
       "      <td>1480.962591</td>\n",
       "      <td>46.497908</td>\n",
       "      <td>49.023421</td>\n",
       "      <td>-84.265743</td>\n",
       "      <td>-1.162414e+10</td>\n",
       "      <td>-7.004519</td>\n",
       "      <td>21791.180400</td>\n",
       "      <td>-0.033109</td>\n",
       "      <td>-0.033670</td>\n",
       "      <td>4</td>\n",
       "    </tr>\n",
       "  </tbody>\n",
       "</table>\n",
       "<p>5 rows × 27 columns</p>\n",
       "</div>"
      ],
      "text/plain": [
       "          time      high       low      open  volumefrom      volumeto  \\\n",
       "99  2022-06-27  21505.42  20553.32  21031.85    30683.89  6.435462e+08   \n",
       "100 2022-06-28  21184.16  20179.52  20718.16    32936.56  6.807279e+08   \n",
       "101 2022-06-29  20402.70  19844.86  20251.96    37366.30  7.511433e+08   \n",
       "102 2022-06-30  20138.96  18622.86  20094.16    56316.14  1.084139e+09   \n",
       "103 2022-07-01  20817.65  18952.12  19908.49    62287.55  1.220917e+09   \n",
       "\n",
       "        close conversionType conversionSymbol           SMA  ...          ATR  \\\n",
       "99   20718.16         direct                   20839.020714  ...  1553.992446   \n",
       "100  20251.96         direct                   20705.705714  ...  1514.752986   \n",
       "101  20094.16         direct                   20529.093571  ...  1446.402058   \n",
       "102  19908.49         direct                   20495.925000  ...  1451.380483   \n",
       "103  19249.33         direct                   20411.430000  ...  1480.962591   \n",
       "\n",
       "            %K         %D         CCI           OBV       ROC          PSAR  \\\n",
       "99   42.673040  36.078434   12.283435 -7.887216e+09  1.399258  18076.835185   \n",
       "100  47.334137  41.459830  -22.021057 -8.567944e+09  6.846538  18303.575474   \n",
       "101  50.502686  46.836621  -64.316632 -9.319088e+09 -2.234755  18516.711346   \n",
       "102  50.069669  49.302164 -114.521542 -1.040323e+10 -3.125993  21855.840000   \n",
       "103  46.497908  49.023421  -84.265743 -1.162414e+10 -7.004519  21791.180400   \n",
       "\n",
       "     daily_return  log_return  day_of_week  \n",
       "99      -0.014915   -0.015027            0  \n",
       "100     -0.022502   -0.022759            1  \n",
       "101     -0.007792   -0.007822            2  \n",
       "102     -0.009240   -0.009283            3  \n",
       "103     -0.033109   -0.033670            4  \n",
       "\n",
       "[5 rows x 27 columns]"
      ]
     },
     "execution_count": 357,
     "metadata": {},
     "output_type": "execute_result"
    }
   ],
   "source": [
    "df.head()"
   ]
  },
  {
   "cell_type": "code",
   "execution_count": 358,
   "id": "b0a75f15",
   "metadata": {
    "scrolled": true
   },
   "outputs": [
    {
     "data": {
      "text/html": [
       "<div>\n",
       "<style scoped>\n",
       "    .dataframe tbody tr th:only-of-type {\n",
       "        vertical-align: middle;\n",
       "    }\n",
       "\n",
       "    .dataframe tbody tr th {\n",
       "        vertical-align: top;\n",
       "    }\n",
       "\n",
       "    .dataframe thead th {\n",
       "        text-align: right;\n",
       "    }\n",
       "</style>\n",
       "<table border=\"1\" class=\"dataframe\">\n",
       "  <thead>\n",
       "    <tr style=\"text-align: right;\">\n",
       "      <th></th>\n",
       "      <th>time</th>\n",
       "      <th>high</th>\n",
       "      <th>low</th>\n",
       "      <th>open</th>\n",
       "      <th>volumefrom</th>\n",
       "      <th>volumeto</th>\n",
       "      <th>close</th>\n",
       "      <th>conversionType</th>\n",
       "      <th>conversionSymbol</th>\n",
       "      <th>SMA</th>\n",
       "      <th>...</th>\n",
       "      <th>ATR</th>\n",
       "      <th>%K</th>\n",
       "      <th>%D</th>\n",
       "      <th>CCI</th>\n",
       "      <th>OBV</th>\n",
       "      <th>ROC</th>\n",
       "      <th>PSAR</th>\n",
       "      <th>daily_return</th>\n",
       "      <th>log_return</th>\n",
       "      <th>day_of_week</th>\n",
       "    </tr>\n",
       "  </thead>\n",
       "  <tbody>\n",
       "    <tr>\n",
       "      <th>360</th>\n",
       "      <td>2023-03-15</td>\n",
       "      <td>25249.88</td>\n",
       "      <td>23950.43</td>\n",
       "      <td>24758.71</td>\n",
       "      <td>74030.83</td>\n",
       "      <td>1.824300e+09</td>\n",
       "      <td>24369.16</td>\n",
       "      <td>direct</td>\n",
       "      <td></td>\n",
       "      <td>22402.443571</td>\n",
       "      <td>...</td>\n",
       "      <td>1120.506815</td>\n",
       "      <td>78.777352</td>\n",
       "      <td>70.860990</td>\n",
       "      <td>133.199809</td>\n",
       "      <td>-2.850831e+10</td>\n",
       "      <td>8.627709</td>\n",
       "      <td>19969.338064</td>\n",
       "      <td>-0.015734</td>\n",
       "      <td>-0.015859</td>\n",
       "      <td>2</td>\n",
       "    </tr>\n",
       "    <tr>\n",
       "      <th>361</th>\n",
       "      <td>2023-03-16</td>\n",
       "      <td>25210.61</td>\n",
       "      <td>24221.04</td>\n",
       "      <td>24369.16</td>\n",
       "      <td>55375.79</td>\n",
       "      <td>1.372147e+09</td>\n",
       "      <td>25051.31</td>\n",
       "      <td>direct</td>\n",
       "      <td></td>\n",
       "      <td>22515.592857</td>\n",
       "      <td>...</td>\n",
       "      <td>1111.154185</td>\n",
       "      <td>74.228246</td>\n",
       "      <td>76.163233</td>\n",
       "      <td>132.435231</td>\n",
       "      <td>-2.713617e+10</td>\n",
       "      <td>11.784605</td>\n",
       "      <td>20230.851341</td>\n",
       "      <td>0.027992</td>\n",
       "      <td>0.027608</td>\n",
       "      <td>3</td>\n",
       "    </tr>\n",
       "    <tr>\n",
       "      <th>362</th>\n",
       "      <td>2023-03-17</td>\n",
       "      <td>27784.36</td>\n",
       "      <td>24945.47</td>\n",
       "      <td>25051.31</td>\n",
       "      <td>96356.43</td>\n",
       "      <td>2.553143e+09</td>\n",
       "      <td>27440.55</td>\n",
       "      <td>direct</td>\n",
       "      <td></td>\n",
       "      <td>22878.385714</td>\n",
       "      <td>...</td>\n",
       "      <td>1234.563886</td>\n",
       "      <td>81.263110</td>\n",
       "      <td>78.089569</td>\n",
       "      <td>169.649851</td>\n",
       "      <td>-2.458302e+10</td>\n",
       "      <td>23.601237</td>\n",
       "      <td>20481.904088</td>\n",
       "      <td>0.095374</td>\n",
       "      <td>0.091096</td>\n",
       "      <td>4</td>\n",
       "    </tr>\n",
       "    <tr>\n",
       "      <th>363</th>\n",
       "      <td>2023-03-18</td>\n",
       "      <td>27746.59</td>\n",
       "      <td>26658.45</td>\n",
       "      <td>27440.55</td>\n",
       "      <td>48417.21</td>\n",
       "      <td>1.324020e+09</td>\n",
       "      <td>26973.38</td>\n",
       "      <td>direct</td>\n",
       "      <td></td>\n",
       "      <td>23208.550000</td>\n",
       "      <td>...</td>\n",
       "      <td>1224.105037</td>\n",
       "      <td>88.275107</td>\n",
       "      <td>81.255488</td>\n",
       "      <td>142.247359</td>\n",
       "      <td>-2.590704e+10</td>\n",
       "      <td>24.257943</td>\n",
       "      <td>20920.051443</td>\n",
       "      <td>-0.017025</td>\n",
       "      <td>-0.017171</td>\n",
       "      <td>5</td>\n",
       "    </tr>\n",
       "    <tr>\n",
       "      <th>364</th>\n",
       "      <td>2023-03-19</td>\n",
       "      <td>27345.91</td>\n",
       "      <td>26972.58</td>\n",
       "      <td>26973.38</td>\n",
       "      <td>5024.44</td>\n",
       "      <td>1.365457e+08</td>\n",
       "      <td>27152.23</td>\n",
       "      <td>direct</td>\n",
       "      <td></td>\n",
       "      <td>23545.591429</td>\n",
       "      <td>...</td>\n",
       "      <td>1163.335392</td>\n",
       "      <td>92.724554</td>\n",
       "      <td>87.420924</td>\n",
       "      <td>116.517418</td>\n",
       "      <td>-2.577050e+10</td>\n",
       "      <td>33.299246</td>\n",
       "      <td>21331.909956</td>\n",
       "      <td>0.006631</td>\n",
       "      <td>0.006609</td>\n",
       "      <td>6</td>\n",
       "    </tr>\n",
       "  </tbody>\n",
       "</table>\n",
       "<p>5 rows × 27 columns</p>\n",
       "</div>"
      ],
      "text/plain": [
       "          time      high       low      open  volumefrom      volumeto  \\\n",
       "360 2023-03-15  25249.88  23950.43  24758.71    74030.83  1.824300e+09   \n",
       "361 2023-03-16  25210.61  24221.04  24369.16    55375.79  1.372147e+09   \n",
       "362 2023-03-17  27784.36  24945.47  25051.31    96356.43  2.553143e+09   \n",
       "363 2023-03-18  27746.59  26658.45  27440.55    48417.21  1.324020e+09   \n",
       "364 2023-03-19  27345.91  26972.58  26973.38     5024.44  1.365457e+08   \n",
       "\n",
       "        close conversionType conversionSymbol           SMA  ...          ATR  \\\n",
       "360  24369.16         direct                   22402.443571  ...  1120.506815   \n",
       "361  25051.31         direct                   22515.592857  ...  1111.154185   \n",
       "362  27440.55         direct                   22878.385714  ...  1234.563886   \n",
       "363  26973.38         direct                   23208.550000  ...  1224.105037   \n",
       "364  27152.23         direct                   23545.591429  ...  1163.335392   \n",
       "\n",
       "            %K         %D         CCI           OBV        ROC          PSAR  \\\n",
       "360  78.777352  70.860990  133.199809 -2.850831e+10   8.627709  19969.338064   \n",
       "361  74.228246  76.163233  132.435231 -2.713617e+10  11.784605  20230.851341   \n",
       "362  81.263110  78.089569  169.649851 -2.458302e+10  23.601237  20481.904088   \n",
       "363  88.275107  81.255488  142.247359 -2.590704e+10  24.257943  20920.051443   \n",
       "364  92.724554  87.420924  116.517418 -2.577050e+10  33.299246  21331.909956   \n",
       "\n",
       "     daily_return  log_return  day_of_week  \n",
       "360     -0.015734   -0.015859            2  \n",
       "361      0.027992    0.027608            3  \n",
       "362      0.095374    0.091096            4  \n",
       "363     -0.017025   -0.017171            5  \n",
       "364      0.006631    0.006609            6  \n",
       "\n",
       "[5 rows x 27 columns]"
      ]
     },
     "execution_count": 358,
     "metadata": {},
     "output_type": "execute_result"
    }
   ],
   "source": [
    "df.tail()"
   ]
  },
  {
   "cell_type": "code",
   "execution_count": 359,
   "id": "51131fc6",
   "metadata": {},
   "outputs": [],
   "source": [
    "train_data = train_data.dropna()\n",
    "test_data = test_data.dropna()"
   ]
  },
  {
   "cell_type": "markdown",
   "id": "028ea112",
   "metadata": {},
   "source": [
    "##### We now split the data into the X,y train/test."
   ]
  },
  {
   "cell_type": "code",
   "execution_count": 360,
   "id": "108bb77e",
   "metadata": {},
   "outputs": [],
   "source": [
    "def create_sequences(df, window_size):\n",
    "    X, y = [], []\n",
    "    for i in range(window_size, len(df)):\n",
    "        X.append(df.iloc[i - window_size:i].values)\n",
    "        y.append(df.iloc[i, 0])  # Assuming the target variable is the 'close' price\n",
    "    return np.array(X), np.array(y)\n",
    "\n",
    "window_size = 60\n",
    "X_train, y_train = create_sequences(train_data, window_size)\n",
    "X_test, y_test = create_sequences(test_data, window_size)"
   ]
  },
  {
   "cell_type": "code",
   "execution_count": 361,
   "id": "88e62d3f",
   "metadata": {
    "scrolled": true
   },
   "outputs": [
    {
     "name": "stdout",
     "output_type": "stream",
     "text": [
      "Length of train_data: 199\n",
      "Length of test_data: 67\n",
      "\n",
      "\n",
      "X_train dtype: float64\n",
      "y_train dtype: float64\n",
      "X_test dtype: float64\n",
      "y_test dtype: float64\n"
     ]
    }
   ],
   "source": [
    "print(\"Length of train_data:\", len(train_data))\n",
    "print(\"Length of test_data:\", len(test_data))\n",
    "print('\\n')\n",
    "print(\"X_train dtype:\", X_train.dtype)\n",
    "print(\"y_train dtype:\", y_train.dtype)\n",
    "print(\"X_test dtype:\", X_test.dtype)\n",
    "print(\"y_test dtype:\", y_test.dtype)"
   ]
  },
  {
   "cell_type": "markdown",
   "id": "58b231e8",
   "metadata": {},
   "source": [
    "### Making the LSTM Neural Network Model"
   ]
  },
  {
   "cell_type": "code",
   "execution_count": 362,
   "id": "523e84eb",
   "metadata": {
    "scrolled": true
   },
   "outputs": [
    {
     "name": "stdout",
     "output_type": "stream",
     "text": [
      "Epoch 1/50\n",
      "5/5 [==============================] - 21s 677ms/step - loss: 0.0353 - val_loss: 0.3620\n",
      "Epoch 2/50\n",
      "5/5 [==============================] - 1s 170ms/step - loss: 0.0218 - val_loss: 0.3536\n",
      "Epoch 3/50\n",
      "5/5 [==============================] - 1s 199ms/step - loss: 0.0143 - val_loss: 0.2321\n",
      "Epoch 4/50\n",
      "5/5 [==============================] - 1s 178ms/step - loss: 0.0115 - val_loss: 0.3029\n",
      "Epoch 5/50\n",
      "5/5 [==============================] - 1s 195ms/step - loss: 0.0100 - val_loss: 0.2676\n",
      "Epoch 6/50\n",
      "5/5 [==============================] - 1s 171ms/step - loss: 0.0098 - val_loss: 0.2516\n",
      "Epoch 7/50\n",
      "5/5 [==============================] - 1s 182ms/step - loss: 0.0096 - val_loss: 0.2613\n",
      "Epoch 8/50\n",
      "5/5 [==============================] - 1s 187ms/step - loss: 0.0082 - val_loss: 0.2545\n",
      "Epoch 9/50\n",
      "5/5 [==============================] - 2s 371ms/step - loss: 0.0082 - val_loss: 0.3121\n",
      "Epoch 10/50\n",
      "5/5 [==============================] - 1s 282ms/step - loss: 0.0066 - val_loss: 0.2848\n",
      "Epoch 11/50\n",
      "5/5 [==============================] - 1s 199ms/step - loss: 0.0062 - val_loss: 0.2906\n",
      "Epoch 12/50\n",
      "5/5 [==============================] - 1s 200ms/step - loss: 0.0064 - val_loss: 0.2848\n",
      "Epoch 13/50\n",
      "5/5 [==============================] - 1s 205ms/step - loss: 0.0064 - val_loss: 0.2838\n",
      "Epoch 14/50\n",
      "5/5 [==============================] - 1s 208ms/step - loss: 0.0071 - val_loss: 0.3593\n",
      "Epoch 15/50\n",
      "5/5 [==============================] - 1s 192ms/step - loss: 0.0064 - val_loss: 0.2193\n",
      "Epoch 16/50\n",
      "5/5 [==============================] - 1s 184ms/step - loss: 0.0073 - val_loss: 0.3819\n",
      "Epoch 17/50\n",
      "5/5 [==============================] - 1s 133ms/step - loss: 0.0060 - val_loss: 0.2479\n",
      "Epoch 18/50\n",
      "5/5 [==============================] - 1s 150ms/step - loss: 0.0078 - val_loss: 0.3409\n",
      "Epoch 19/50\n",
      "5/5 [==============================] - 1s 176ms/step - loss: 0.0074 - val_loss: 0.2644\n",
      "Epoch 20/50\n",
      "5/5 [==============================] - 1s 178ms/step - loss: 0.0075 - val_loss: 0.2690\n",
      "Epoch 21/50\n",
      "5/5 [==============================] - 1s 118ms/step - loss: 0.0068 - val_loss: 0.3257\n",
      "Epoch 22/50\n",
      "5/5 [==============================] - 1s 197ms/step - loss: 0.0059 - val_loss: 0.2373\n",
      "Epoch 23/50\n",
      "5/5 [==============================] - 1s 120ms/step - loss: 0.0053 - val_loss: 0.2781\n",
      "Epoch 24/50\n",
      "5/5 [==============================] - 1s 132ms/step - loss: 0.0042 - val_loss: 0.2597\n",
      "Epoch 25/50\n",
      "5/5 [==============================] - 1s 197ms/step - loss: 0.0042 - val_loss: 0.2633\n",
      "Epoch 26/50\n",
      "5/5 [==============================] - 1s 208ms/step - loss: 0.0046 - val_loss: 0.2898\n",
      "Epoch 27/50\n",
      "5/5 [==============================] - 1s 206ms/step - loss: 0.0046 - val_loss: 0.2822\n",
      "Epoch 28/50\n",
      "5/5 [==============================] - 1s 205ms/step - loss: 0.0037 - val_loss: 0.2681\n",
      "Epoch 29/50\n",
      "5/5 [==============================] - 1s 297ms/step - loss: 0.0043 - val_loss: 0.2804\n",
      "Epoch 30/50\n",
      "5/5 [==============================] - 1s 285ms/step - loss: 0.0045 - val_loss: 0.2572\n",
      "Epoch 31/50\n",
      "5/5 [==============================] - 1s 225ms/step - loss: 0.0046 - val_loss: 0.3008\n",
      "Epoch 32/50\n",
      "5/5 [==============================] - 1s 157ms/step - loss: 0.0059 - val_loss: 0.2812\n",
      "Epoch 33/50\n",
      "5/5 [==============================] - 1s 189ms/step - loss: 0.0049 - val_loss: 0.2776\n",
      "Epoch 34/50\n",
      "5/5 [==============================] - 1s 130ms/step - loss: 0.0039 - val_loss: 0.2856\n",
      "Epoch 35/50\n",
      "5/5 [==============================] - 1s 155ms/step - loss: 0.0047 - val_loss: 0.2694\n",
      "Epoch 36/50\n",
      "5/5 [==============================] - 1s 189ms/step - loss: 0.0039 - val_loss: 0.2818\n",
      "Epoch 37/50\n",
      "5/5 [==============================] - 1s 159ms/step - loss: 0.0041 - val_loss: 0.2676\n",
      "Epoch 38/50\n",
      "5/5 [==============================] - 1s 165ms/step - loss: 0.0036 - val_loss: 0.2574\n",
      "Epoch 39/50\n",
      "5/5 [==============================] - 1s 166ms/step - loss: 0.0037 - val_loss: 0.2715\n",
      "Epoch 40/50\n",
      "5/5 [==============================] - 1s 181ms/step - loss: 0.0033 - val_loss: 0.2558\n",
      "Epoch 41/50\n",
      "5/5 [==============================] - 1s 166ms/step - loss: 0.0042 - val_loss: 0.2872\n",
      "Epoch 42/50\n",
      "5/5 [==============================] - 1s 180ms/step - loss: 0.0046 - val_loss: 0.2486\n",
      "Epoch 43/50\n",
      "5/5 [==============================] - 1s 208ms/step - loss: 0.0037 - val_loss: 0.2846\n",
      "Epoch 44/50\n",
      "5/5 [==============================] - 1s 217ms/step - loss: 0.0044 - val_loss: 0.2581\n",
      "Epoch 45/50\n",
      "5/5 [==============================] - 1s 187ms/step - loss: 0.0046 - val_loss: 0.2772\n",
      "Epoch 46/50\n",
      "5/5 [==============================] - 1s 213ms/step - loss: 0.0033 - val_loss: 0.2538\n",
      "Epoch 47/50\n",
      "5/5 [==============================] - 1s 207ms/step - loss: 0.0035 - val_loss: 0.2548\n",
      "Epoch 48/50\n",
      "5/5 [==============================] - 1s 207ms/step - loss: 0.0033 - val_loss: 0.2683\n",
      "Epoch 49/50\n",
      "5/5 [==============================] - 1s 193ms/step - loss: 0.0042 - val_loss: 0.2836\n",
      "Epoch 50/50\n",
      "5/5 [==============================] - 1s 163ms/step - loss: 0.0037 - val_loss: 0.2829\n"
     ]
    }
   ],
   "source": [
    "# Define the LSTM model\n",
    "model = Sequential()\n",
    "model.add(LSTM(units=50, return_sequences=True, input_shape=(X_train.shape[1], X_train.shape[2])))\n",
    "model.add(Dropout(0.2))\n",
    "model.add(LSTM(units=50, return_sequences=True))\n",
    "model.add(Dropout(0.2))\n",
    "model.add(LSTM(units=50))\n",
    "model.add(Dropout(0.2))\n",
    "model.add(Dense(units=1))\n",
    "\n",
    "# Compile and train the model\n",
    "model.compile(optimizer=Adam(learning_rate=0.001), loss='mean_squared_error')\n",
    "history = model.fit(X_train, y_train, epochs=50, batch_size=32, validation_data=(X_test, y_test), verbose=1)"
   ]
  },
  {
   "cell_type": "markdown",
   "id": "fca55a6c",
   "metadata": {},
   "source": [
    "### Evaluating the Model's Performance"
   ]
  },
  {
   "cell_type": "code",
   "execution_count": 363,
   "id": "38456031",
   "metadata": {
    "scrolled": true
   },
   "outputs": [
    {
     "name": "stdout",
     "output_type": "stream",
     "text": [
      "Train Loss: 0.00296, Test Loss: 0.28292\n"
     ]
    }
   ],
   "source": [
    "train_loss = np.mean(model.evaluate(X_train, y_train, verbose=0))\n",
    "test_loss = np.mean(model.evaluate(X_test, y_test, verbose=0))\n",
    "print(f'Train Loss: {train_loss:.5f}, Test Loss: {test_loss:.5f}')"
   ]
  },
  {
   "cell_type": "code",
   "execution_count": 364,
   "id": "bb402b09",
   "metadata": {},
   "outputs": [
    {
     "name": "stdout",
     "output_type": "stream",
     "text": [
      "5/5 [==============================] - 3s 57ms/step\n",
      "1/1 [==============================] - 0s 86ms/step\n"
     ]
    }
   ],
   "source": [
    "y_train_pred = model.predict(X_train)\n",
    "y_test_pred = model.predict(X_test)"
   ]
  },
  {
   "cell_type": "code",
   "execution_count": 365,
   "id": "bc839e31",
   "metadata": {},
   "outputs": [],
   "source": [
    "# Create dummy arrays of zeros with the same shape as X_train and X_test\n",
    "dummy_train = np.zeros_like(X_train)\n",
    "dummy_test = np.zeros_like(X_test)\n",
    "\n",
    "# Replace the first column of the dummy arrays with the reshaped predicted values\n",
    "dummy_train[:, :, 0] = y_train_pred\n",
    "dummy_test[:, :, 0] = y_test_pred\n",
    "\n",
    "# Perform the inverse transformation on the dummy arrays\n",
    "y_train_pred_unscaled = scaler.inverse_transform(dummy_train[:, 0, :])[:, 0]\n",
    "y_test_pred_unscaled = scaler.inverse_transform(dummy_test[:, 0, :])[:, 0]"
   ]
  },
  {
   "cell_type": "code",
   "execution_count": 366,
   "id": "b067ab6d",
   "metadata": {},
   "outputs": [],
   "source": [
    "# Create dummy arrays of zeros with the same shape as X_train and X_test\n",
    "dummy_train_y = np.zeros_like(X_train)\n",
    "dummy_test_y = np.zeros_like(X_test)\n",
    "\n",
    "# Replace the first column of the dummy arrays with the actual y values\n",
    "dummy_train_y[:, :, 0] = y_train.reshape(-1, 1)\n",
    "dummy_test_y[:, :, 0] = y_test.reshape(-1, 1)\n",
    "\n",
    "# Perform the inverse transformation on the dummy arrays\n",
    "y_train_unscaled = scaler.inverse_transform(dummy_train_y[:, 0, :])[:, 0]\n",
    "y_test_unscaled = scaler.inverse_transform(dummy_test_y[:, 0, :])[:, 0]"
   ]
  },
  {
   "cell_type": "code",
   "execution_count": 367,
   "id": "7fbcdb13",
   "metadata": {},
   "outputs": [],
   "source": [
    "# Create dummy arrays of zeros with the same shape as X_train and X_test\n",
    "dummy_train_y = np.zeros_like(X_train)\n",
    "dummy_test_y = np.zeros_like(X_test)\n",
    "\n",
    "# Replace the first column of the dummy arrays with the actual y values\n",
    "dummy_train_y[:, :, 0] = y_train.reshape(-1, 1)\n",
    "dummy_test_y[:, :, 0] = y_test.reshape(-1, 1)\n",
    "\n",
    "# Perform the inverse transformation on the dummy arrays\n",
    "y_train_unscaled = scaler.inverse_transform(dummy_train_y[:, 0, :])[:, 0]\n",
    "y_test_unscaled = scaler.inverse_transform(dummy_test_y[:, 0, :])[:, 0]"
   ]
  },
  {
   "cell_type": "code",
   "execution_count": 368,
   "id": "ee493b79",
   "metadata": {
    "scrolled": true
   },
   "outputs": [
    {
     "name": "stdout",
     "output_type": "stream",
     "text": [
      "Train RMSE: 635.20843, Test RMSE: 6212.84137\n"
     ]
    }
   ],
   "source": [
    "train_rmse = np.sqrt(mean_squared_error(y_train_unscaled, y_train_pred_unscaled))\n",
    "test_rmse = np.sqrt(mean_squared_error(y_test_unscaled, y_test_pred_unscaled))\n",
    "print(f'Train RMSE: {train_rmse:.5f}, Test RMSE: {test_rmse:.5f}')"
   ]
  },
  {
   "cell_type": "markdown",
   "id": "2fdc6095",
   "metadata": {},
   "source": [
    "The test RMSE is higher than the train RMSE (as expected), but not by a significan amount. To see how well the model actually performed, let's visualize the predictions versus the actual data."
   ]
  },
  {
   "cell_type": "markdown",
   "id": "5d6a8878",
   "metadata": {},
   "source": [
    "##### Visualizing the results."
   ]
  },
  {
   "cell_type": "code",
   "execution_count": 372,
   "id": "85ba5d12",
   "metadata": {},
   "outputs": [
    {
     "data": {
      "image/png": "[encoded data removed]",
      "text/plain": [
       "<Figure size 1400x600 with 1 Axes>"
      ]
     },
     "metadata": {},
     "output_type": "display_data"
    },
    {
     "data": {
      "image/png": "[encoded data removed]",
      "text/plain": [
       "<Figure size 1400x600 with 1 Axes>"
      ]
     },
     "metadata": {},
     "output_type": "display_data"
    }
   ],
   "source": [
    "# For training data\n",
    "plt.figure(figsize=(14, 6))\n",
    "plt.plot(y_train_unscaled, label='Actual')\n",
    "plt.plot(y_train_pred_unscaled, label='Predicted')\n",
    "plt.title('Training Data - Actual vs Predicted')\n",
    "plt.ylim(0,28000)\n",
    "plt.xlabel('Time')\n",
    "plt.ylabel('Price')\n",
    "plt.legend()\n",
    "plt.show()\n",
    "\n",
    "# For testing data\n",
    "plt.figure(figsize=(14, 6))\n",
    "plt.plot(y_test_unscaled, label='Actual')\n",
    "plt.plot(y_test_pred_unscaled, label='Predicted')\n",
    "plt.title('Testing Data - Actual vs Predicted')\n",
    "plt.ylim(0,28000)\n",
    "plt.xlabel('Time')\n",
    "plt.ylabel('Price')\n",
    "plt.legend()\n",
    "plt.show()"
   ]
  },
  {
   "cell_type": "code",
   "execution_count": 370,
   "id": "f23d1093",
   "metadata": {},
   "outputs": [],
   "source": [
    "def mean_absolute_percentage_error(y_true, y_pred):\n",
    "    y_true, y_pred = np.array(y_true), np.array(y_pred)\n",
    "    return np.mean(np.abs((y_true - y_pred) / y_true)) * 100"
   ]
  },
  {
   "cell_type": "code",
   "execution_count": 371,
   "id": "4c425266",
   "metadata": {},
   "outputs": [
    {
     "name": "stdout",
     "output_type": "stream",
     "text": [
      "Train MAPE: 2.20%, Test MAPE: 23.65%\n"
     ]
    }
   ],
   "source": [
    "train_mape = mean_absolute_percentage_error(y_train_unscaled, y_train_pred_unscaled)\n",
    "test_mape = mean_absolute_percentage_error(y_test_unscaled, y_test_pred_unscaled)\n",
    "\n",
    "print(f'Train MAPE: {train_mape:.2f}%, Test MAPE: {test_mape:.2f}%')"
   ]
  },
  {
   "cell_type": "markdown",
   "id": "2bf9c078",
   "metadata": {},
   "source": [
    "As you can see, the model has performed extremely well! By adding additional features, the model can be made more accurate and eventually used to invest into Bitcoin, and other cryptocurrencies if modified accordingly."
   ]
  },
  {
   "cell_type": "markdown",
   "id": "005c70f4",
   "metadata": {},
   "source": [
    "### 5-fold Cross Validation"
   ]
  },
  {
   "cell_type": "markdown",
   "id": "d1601319",
   "metadata": {},
   "source": [
    "The code below demonstrates how cross-validation can be used on Bitcoin's historical pricing data across 5 fold. The model is trained and validated on each fold, with the average validation loss"
   ]
  },
  {
   "cell_type": "code",
   "execution_count": 381,
   "id": "d6e71cce",
   "metadata": {
    "scrolled": true
   },
   "outputs": [
    {
     "name": "stdout",
     "output_type": "stream",
     "text": [
      "2/2 [==============================] - 3s 31ms/step\n",
      "2/2 [==============================] - 3s 44ms/step\n",
      "WARNING:tensorflow:5 out of the last 13 calls to <function Model.make_predict_function.<locals>.predict_function at 0x0000019026245430> triggered tf.function retracing. Tracing is expensive and the excessive number of tracings could be due to (1) creating @tf.function repeatedly in a loop, (2) passing tensors with different shapes, (3) passing Python objects instead of tensors. For (1), please define your @tf.function outside of the loop. For (2), @tf.function has reduce_retracing=True option that can avoid unnecessary retracing. For (3), please refer to https://www.tensorflow.org/guide/function#controlling_retracing and https://www.tensorflow.org/api_docs/python/tf/function for  more details.\n"
     ]
    },
    {
     "name": "stderr",
     "output_type": "stream",
     "text": [
      "WARNING:tensorflow:5 out of the last 13 calls to <function Model.make_predict_function.<locals>.predict_function at 0x0000019026245430> triggered tf.function retracing. Tracing is expensive and the excessive number of tracings could be due to (1) creating @tf.function repeatedly in a loop, (2) passing tensors with different shapes, (3) passing Python objects instead of tensors. For (1), please define your @tf.function outside of the loop. For (2), @tf.function has reduce_retracing=True option that can avoid unnecessary retracing. For (3), please refer to https://www.tensorflow.org/guide/function#controlling_retracing and https://www.tensorflow.org/api_docs/python/tf/function for  more details.\n"
     ]
    },
    {
     "name": "stdout",
     "output_type": "stream",
     "text": [
      "2/2 [==============================] - 3s 24ms/step\n",
      "WARNING:tensorflow:6 out of the last 15 calls to <function Model.make_predict_function.<locals>.predict_function at 0x000001903A1F2EE0> triggered tf.function retracing. Tracing is expensive and the excessive number of tracings could be due to (1) creating @tf.function repeatedly in a loop, (2) passing tensors with different shapes, (3) passing Python objects instead of tensors. For (1), please define your @tf.function outside of the loop. For (2), @tf.function has reduce_retracing=True option that can avoid unnecessary retracing. For (3), please refer to https://www.tensorflow.org/guide/function#controlling_retracing and https://www.tensorflow.org/api_docs/python/tf/function for  more details.\n"
     ]
    },
    {
     "name": "stderr",
     "output_type": "stream",
     "text": [
      "WARNING:tensorflow:6 out of the last 15 calls to <function Model.make_predict_function.<locals>.predict_function at 0x000001903A1F2EE0> triggered tf.function retracing. Tracing is expensive and the excessive number of tracings could be due to (1) creating @tf.function repeatedly in a loop, (2) passing tensors with different shapes, (3) passing Python objects instead of tensors. For (1), please define your @tf.function outside of the loop. For (2), @tf.function has reduce_retracing=True option that can avoid unnecessary retracing. For (3), please refer to https://www.tensorflow.org/guide/function#controlling_retracing and https://www.tensorflow.org/api_docs/python/tf/function for  more details.\n"
     ]
    },
    {
     "name": "stdout",
     "output_type": "stream",
     "text": [
      "2/2 [==============================] - 3s 39ms/step\n",
      "2/2 [==============================] - 2s 47ms/step\n"
     ]
    }
   ],
   "source": [
    "from sklearn.model_selection import TimeSeriesSplit\n",
    "from tensorflow.keras.callbacks import EarlyStopping\n",
    "\n",
    "def create_lstm_model(input_shape):\n",
    "    model = Sequential()\n",
    "    model.add(LSTM(units=50, return_sequences=True, input_shape=input_shape))\n",
    "    model.add(Dropout(0.2))\n",
    "    model.add(LSTM(units=50, return_sequences=True))\n",
    "    model.add(Dropout(0.2))\n",
    "    model.add(LSTM(units=50))\n",
    "    model.add(Dropout(0.2))\n",
    "    model.add(Dense(units=1))\n",
    "\n",
    "    model.compile(optimizer=Adam(learning_rate=0.001), loss='mean_squared_error')\n",
    "    return model\n",
    "\n",
    "def lstm_cross_validation(X, y, n_splits=5):\n",
    "    tscv = TimeSeriesSplit(n_splits=n_splits)\n",
    "    predictions, true_values = [], []\n",
    "\n",
    "    # Define early stopping\n",
    "    early_stopping = EarlyStopping(monitor='val_loss', patience=10, restore_best_weights=True)\n",
    "\n",
    "    for train_index, test_index in tscv.split(X):\n",
    "        X_train, X_test = X[train_index], X[test_index]\n",
    "        y_train, y_test = y[train_index], y[test_index]\n",
    "\n",
    "        # Create and train the model\n",
    "        model = create_lstm_model((X_train.shape[1], X_train.shape[2]))\n",
    "        model.fit(X_train, y_train, epochs=50, batch_size=32, validation_data=(X_test, y_test), verbose=0, callbacks=[early_stopping])\n",
    "\n",
    "        # Make predictions\n",
    "        y_test_pred = model.predict(X_test)\n",
    "        predictions.append(y_test_pred)\n",
    "        true_values.append(y_test)\n",
    "\n",
    "    return np.concatenate(predictions), np.concatenate(true_values)\n",
    "\n",
    "# Call the lstm_cross_validation function\n",
    "predictions, true_values = lstm_cross_validation(X, y, n_splits=5)"
   ]
  },
  {
   "cell_type": "code",
   "execution_count": 374,
   "id": "96044b28",
   "metadata": {},
   "outputs": [
    {
     "name": "stdout",
     "output_type": "stream",
     "text": [
      "Average validation loss: 0.04712\n"
     ]
    }
   ],
   "source": [
    "# Calculate the average validation loss across all folds\n",
    "average_val_loss = np.mean(validation_losses)\n",
    "print(f'Average validation loss: {average_val_loss:.5f}')"
   ]
  },
  {
   "cell_type": "code",
   "execution_count": 378,
   "id": "3533940b",
   "metadata": {},
   "outputs": [
    {
     "name": "stdout",
     "output_type": "stream",
     "text": [
      "Test RMSE: 4268.31600\n"
     ]
    }
   ],
   "source": [
    "from math import sqrt\n",
    "\n",
    "# Unscale the predictions and true values\n",
    "y_test_pred_reshaped = y_test_pred.reshape(-1, 1)\n",
    "y_test_reshaped = y_test.reshape(-1, 1)\n",
    "dummy_test = np.zeros((y_test_pred_reshaped.shape[0], X_test.shape[2] - 1))\n",
    "\n",
    "y_test_pred_unscaled = scaler.inverse_transform(np.hstack((y_test_pred_reshaped, dummy_test)))[:, 0]\n",
    "y_test_unscaled = scaler.inverse_transform(np.hstack((y_test_reshaped, dummy_test)))[:, 0]\n",
    "\n",
    "# Calculate the RMSE\n",
    "rmse = sqrt(mean_squared_error(y_test_unscaled, y_test_pred_unscaled))\n",
    "print(f'Test RMSE: {rmse:.5f}')"
   ]
  },
  {
   "cell_type": "markdown",
   "id": "8bb4f8e3",
   "metadata": {},
   "source": [
    "As we can see, the RMSE has went down from the old RMSE of 6212.84137. Performing cross-validation on the model makes it more accurate and allows for better predictions."
   ]
  },
  {
   "cell_type": "code",
   "execution_count": 383,
   "id": "17fcc2d2",
   "metadata": {},
   "outputs": [
    {
     "name": "stdout",
     "output_type": "stream",
     "text": [
      "Test MAPE: 16.06%\n"
     ]
    }
   ],
   "source": [
    "def mean_absolute_percentage_error(y_true, y_pred):\n",
    "    y_true, y_pred = np.array(y_true), np.array(y_pred)\n",
    "    mape = np.mean(np.abs((y_true - y_pred) / y_true)) * 100\n",
    "    return mape\n",
    "\n",
    "# Calculate the MAPE\n",
    "mape = mean_absolute_percentage_error(y_test_unscaled, y_test_pred_unscaled)\n",
    "print(f'Test MAPE: {mape:.2f}%')"
   ]
  },
  {
   "cell_type": "markdown",
   "id": "ee54bc7f",
   "metadata": {},
   "source": [
    "This new model's error rate of 16.06% is significantly lower than the old model's performance of 23.65%. The next step would be to backtest the model to see how accurate model would perform in the real world."
   ]
  },
  {
   "cell_type": "code",
   "execution_count": 384,
   "id": "a3a94160",
   "metadata": {},
   "outputs": [
    {
     "data": {
      "image/png": "[encoded data removed]",
      "text/plain": [
       "<Figure size 1400x600 with 1 Axes>"
      ]
     },
     "metadata": {},
     "output_type": "display_data"
    }
   ],
   "source": [
    "# Visualize the model's performance\n",
    "plt.figure(figsize=(14, 6))\n",
    "plt.plot(y_test_unscaled, label='True', color='blue')\n",
    "plt.plot(y_test_pred_unscaled, label='Predicted', color='red')\n",
    "plt.title('Bitcoin Price Prediction using LSTM')\n",
    "plt.ylim(0,28000)\n",
    "plt.xlabel('Time')\n",
    "plt.ylabel('Price')\n",
    "plt.legend()\n",
    "plt.show()"
   ]
  },
  {
   "cell_type": "code",
   "execution_count": null,
   "id": "4a71fcc0",
   "metadata": {},
   "outputs": [],
   "source": []
  }
 ],
 "metadata": {
  "kernelspec": {
   "display_name": "Python 3 (ipykernel)",
   "language": "python",
   "name": "python3"
  },
  "language_info": {
   "codemirror_mode": {
    "name": "ipython",
    "version": 3
   },
   "file_extension": ".py",
   "mimetype": "text/x-python",
   "name": "python",
   "nbconvert_exporter": "python",
   "pygments_lexer": "ipython3",
   "version": "3.9.13"
  }
 },
 "nbformat": 4,
 "nbformat_minor": 5
}
